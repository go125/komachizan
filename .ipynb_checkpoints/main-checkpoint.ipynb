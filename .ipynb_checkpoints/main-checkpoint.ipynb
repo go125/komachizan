{
 "cells": [
  {
   "cell_type": "code",
   "execution_count": null,
   "metadata": {},
   "outputs": [],
   "source": []
  },
  {
   "cell_type": "code",
   "execution_count": 1,
   "metadata": {},
   "outputs": [],
   "source": [
    "def make_oplist(num):\n",
    "    op_list=[]\n",
    "    for i in range(0,9):\n",
    "        rand_int=num%4\n",
    "        if rand_int==0:\n",
    "            op_list.append(\"+\")\n",
    "        if rand_int==1:\n",
    "            op_list.append(\"-\")\n",
    "        if rand_int==2:\n",
    "            op_list.append(\"*\")\n",
    "        if rand_int==3:\n",
    "            op_list.append(\"/\")\n",
    "        num=num//4\n",
    "    return op_list"
   ]
  },
  {
   "cell_type": "code",
   "execution_count": null,
   "metadata": {},
   "outputs": [],
   "source": []
  },
  {
   "cell_type": "code",
   "execution_count": 2,
   "metadata": {},
   "outputs": [],
   "source": [
    "def make_func(oplist):\n",
    "    func_str=\"\"\n",
    "    for i in range(1,9):\n",
    "        func_str=func_str+str(i)\n",
    "        func_str=func_str+oplist[i-1]\n",
    "    func_str=func_str+\"9\"\n",
    "    return func_str"
   ]
  },
  {
   "cell_type": "code",
   "execution_count": null,
   "metadata": {},
   "outputs": [],
   "source": []
  },
  {
   "cell_type": "code",
   "execution_count": null,
   "metadata": {},
   "outputs": [],
   "source": []
  },
  {
   "cell_type": "code",
   "execution_count": null,
   "metadata": {},
   "outputs": [],
   "source": []
  },
  {
   "cell_type": "code",
   "execution_count": 3,
   "metadata": {},
   "outputs": [],
   "source": [
    "good_result=[]"
   ]
  },
  {
   "cell_type": "code",
   "execution_count": 4,
   "metadata": {},
   "outputs": [],
   "source": [
    "def main(max_count=4**8,margin=0.00001):\n",
    "    global good_result\n",
    "    count=0\n",
    "    while count<=max_count:\n",
    "        if count%1000==0:\n",
    "            print(str(count)+\"/\"+str(max_count)+\"has finished.\")\n",
    "        oplist=make_oplist(count)\n",
    "        func=make_func(oplist)\n",
    "        res=eval(func)\n",
    "        error=res-100\n",
    "        if abs(error)<margin:\n",
    "            print(func)\n",
    "            good_result.append(func)\n",
    "        count+=1"
   ]
  },
  {
   "cell_type": "code",
   "execution_count": 5,
   "metadata": {},
   "outputs": [
    {
     "name": "stdout",
     "output_type": "stream",
     "text": [
      "0/65536has finished.\n",
      "1000/65536has finished.\n",
      "2000/65536has finished.\n",
      "3000/65536has finished.\n",
      "4000/65536has finished.\n",
      "5000/65536has finished.\n",
      "6000/65536has finished.\n",
      "7000/65536has finished.\n",
      "8000/65536has finished.\n",
      "1*2*3*4+5+6+7*8+9\n",
      "9000/65536has finished.\n",
      "10000/65536has finished.\n",
      "11000/65536has finished.\n",
      "12000/65536has finished.\n",
      "13000/65536has finished.\n",
      "14000/65536has finished.\n",
      "15000/65536has finished.\n",
      "16000/65536has finished.\n",
      "17000/65536has finished.\n",
      "18000/65536has finished.\n",
      "1-2+3*4*5+6*7+8-9\n",
      "19000/65536has finished.\n",
      "20000/65536has finished.\n",
      "21000/65536has finished.\n",
      "22000/65536has finished.\n",
      "23000/65536has finished.\n",
      "24000/65536has finished.\n",
      "1-2+3*4*5-6+7*8-9\n",
      "25000/65536has finished.\n",
      "26000/65536has finished.\n",
      "27000/65536has finished.\n",
      "28000/65536has finished.\n",
      "29000/65536has finished.\n",
      "30000/65536has finished.\n",
      "31000/65536has finished.\n",
      "32000/65536has finished.\n",
      "1+2+3+4+5+6+7+8*9\n",
      "1*2*3+4+5+6+7+8*9\n",
      "1-2*3+4*5+6+7+8*9\n",
      "33000/65536has finished.\n",
      "1+2*3+4*5-6+7+8*9\n",
      "1-2*3-4+5*6+7+8*9\n",
      "1+2-3*4+5*6+7+8*9\n",
      "1+2*3*4*5/6+7+8*9\n",
      "1*2*3*4+5+6-7+8*9\n",
      "34000/65536has finished.\n",
      "1-2*3-4-5+6*7+8*9\n",
      "1+2-3*4-5+6*7+8*9\n",
      "1+2+3-4*5+6*7+8*9\n",
      "1*2*3-4*5+6*7+8*9\n",
      "35000/65536has finished.\n",
      "36000/65536has finished.\n",
      "37000/65536has finished.\n",
      "38000/65536has finished.\n",
      "39000/65536has finished.\n",
      "40000/65536has finished.\n",
      "41000/65536has finished.\n",
      "42000/65536has finished.\n",
      "43000/65536has finished.\n",
      "44000/65536has finished.\n",
      "45000/65536has finished.\n",
      "46000/65536has finished.\n",
      "47000/65536has finished.\n",
      "48000/65536has finished.\n",
      "49000/65536has finished.\n",
      "50000/65536has finished.\n",
      "51000/65536has finished.\n",
      "52000/65536has finished.\n",
      "53000/65536has finished.\n",
      "54000/65536has finished.\n",
      "55000/65536has finished.\n",
      "56000/65536has finished.\n",
      "57000/65536has finished.\n",
      "58000/65536has finished.\n",
      "59000/65536has finished.\n",
      "60000/65536has finished.\n",
      "61000/65536has finished.\n",
      "62000/65536has finished.\n",
      "63000/65536has finished.\n",
      "64000/65536has finished.\n",
      "65000/65536has finished.\n"
     ]
    }
   ],
   "source": [
    "main()"
   ]
  },
  {
   "cell_type": "code",
   "execution_count": 6,
   "metadata": {},
   "outputs": [
    {
     "data": {
      "text/plain": [
       "['1*2*3*4+5+6+7*8+9',\n",
       " '1-2+3*4*5+6*7+8-9',\n",
       " '1-2+3*4*5-6+7*8-9',\n",
       " '1+2+3+4+5+6+7+8*9',\n",
       " '1*2*3+4+5+6+7+8*9',\n",
       " '1-2*3+4*5+6+7+8*9',\n",
       " '1+2*3+4*5-6+7+8*9',\n",
       " '1-2*3-4+5*6+7+8*9',\n",
       " '1+2-3*4+5*6+7+8*9',\n",
       " '1+2*3*4*5/6+7+8*9',\n",
       " '1*2*3*4+5+6-7+8*9',\n",
       " '1-2*3-4-5+6*7+8*9',\n",
       " '1+2-3*4-5+6*7+8*9',\n",
       " '1+2+3-4*5+6*7+8*9',\n",
       " '1*2*3-4*5+6*7+8*9']"
      ]
     },
     "execution_count": 6,
     "metadata": {},
     "output_type": "execute_result"
    }
   ],
   "source": [
    "good_result"
   ]
  },
  {
   "cell_type": "code",
   "execution_count": 7,
   "metadata": {},
   "outputs": [
    {
     "data": {
      "text/plain": [
       "15"
      ]
     },
     "execution_count": 7,
     "metadata": {},
     "output_type": "execute_result"
    }
   ],
   "source": [
    "len(good_result)"
   ]
  },
  {
   "cell_type": "code",
   "execution_count": null,
   "metadata": {},
   "outputs": [],
   "source": []
  }
 ],
 "metadata": {
  "kernelspec": {
   "display_name": "Python 3",
   "language": "python",
   "name": "python3"
  },
  "language_info": {
   "codemirror_mode": {
    "name": "ipython",
    "version": 3
   },
   "file_extension": ".py",
   "mimetype": "text/x-python",
   "name": "python",
   "nbconvert_exporter": "python",
   "pygments_lexer": "ipython3",
   "version": "3.7.3"
  }
 },
 "nbformat": 4,
 "nbformat_minor": 2
}
