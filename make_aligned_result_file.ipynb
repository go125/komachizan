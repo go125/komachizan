{
 "cells": [
  {
   "cell_type": "code",
   "execution_count": 1,
   "metadata": {},
   "outputs": [],
   "source": [
    "import csv\n",
    "\n",
    "src_file = './result_long.csv'"
   ]
  },
  {
   "cell_type": "code",
   "execution_count": 2,
   "metadata": {},
   "outputs": [],
   "source": [
    "\n",
    "src_datas = []\n",
    "s = []\n",
    "datas = []\n",
    "\n",
    "with open(src_file, 'r', encoding='utf-8') as f:\n",
    "    for src_data in csv.reader(f):\n",
    "        src_datas.append(src_data)\n",
    "        if src_data in s:\n",
    "            continue\n",
    "        datas.append(src_data)\n",
    "        s.append(src_data)\n"
   ]
  },
  {
   "cell_type": "code",
   "execution_count": 3,
   "metadata": {},
   "outputs": [
    {
     "data": {
      "text/plain": [
       "585126"
      ]
     },
     "execution_count": 3,
     "metadata": {},
     "output_type": "execute_result"
    }
   ],
   "source": [
    "len(src_datas)"
   ]
  },
  {
   "cell_type": "code",
   "execution_count": 4,
   "metadata": {},
   "outputs": [
    {
     "data": {
      "text/plain": [
       "17238"
      ]
     },
     "execution_count": 4,
     "metadata": {},
     "output_type": "execute_result"
    }
   ],
   "source": [
    "len(s)\n",
    "#no same content\""
   ]
  },
  {
   "cell_type": "code",
   "execution_count": 5,
   "metadata": {},
   "outputs": [],
   "source": [
    "\n",
    "with open(\"aligned.csv\",'a') as f:\n",
    "    writer = csv.writer(f)\n",
    "    for i in range(len(s)):\n",
    "        func=s[i]\n",
    "        writer.writerow(func)\n",
    "            "
   ]
  },
  {
   "cell_type": "code",
   "execution_count": 6,
   "metadata": {},
   "outputs": [],
   "source": [
    "\n",
    "with open(\"check_formula_value.csv\",'a') as f:\n",
    "    writer = csv.writer(f)\n",
    "    for i in range(len(s)):\n",
    "        func=[\"=\"+s[i][0]]\n",
    "        # add \"=\" to the formula\n",
    "        writer.writerow(func)\n",
    "            "
   ]
  }
 ],
 "metadata": {
  "kernelspec": {
   "display_name": "Python 3",
   "language": "python",
   "name": "python3"
  },
  "language_info": {
   "codemirror_mode": {
    "name": "ipython",
    "version": 3
   },
   "file_extension": ".py",
   "mimetype": "text/x-python",
   "name": "python",
   "nbconvert_exporter": "python",
   "pygments_lexer": "ipython3",
   "version": "3.7.3"
  }
 },
 "nbformat": 4,
 "nbformat_minor": 2
}
