{
 "cells": [
  {
   "cell_type": "code",
   "execution_count": 5,
   "metadata": {},
   "outputs": [],
   "source": [
    "import csv\n",
    "\n",
    "# 元データ\n",
    "src_file = './result_long.csv'"
   ]
  },
  {
   "cell_type": "code",
   "execution_count": 10,
   "metadata": {},
   "outputs": [],
   "source": [
    "# 元データ (デバッグ用)\n",
    "src_datas = []\n",
    "\n",
    "# 重複を排除するための集合\n",
    "s = []\n",
    "\n",
    "# ユニークになったデータ（一意になったデータ）\n",
    "datas = []\n",
    "\n",
    "# 処理を開始する\n",
    "with open(src_file, 'r', encoding='utf-8') as f:\n",
    "    for src_data in csv.reader(f):\n",
    "        # 元データ (デバッグ用)\n",
    "        src_datas.append(src_data)\n",
    "\n",
    "        # もし、タイトル[1]が集合にあったらコンティニューする。\n",
    "        if src_data in s:\n",
    "            continue\n",
    "\n",
    "        # リストに追加して、集合にタイトル[1]を追加する。\n",
    "        datas.append(src_data)\n",
    "        s.append(src_data)\n"
   ]
  },
  {
   "cell_type": "code",
   "execution_count": 11,
   "metadata": {},
   "outputs": [
    {
     "data": {
      "text/plain": [
       "3262508"
      ]
     },
     "execution_count": 11,
     "metadata": {},
     "output_type": "execute_result"
    }
   ],
   "source": [
    "len(src_datas)"
   ]
  },
  {
   "cell_type": "code",
   "execution_count": 12,
   "metadata": {},
   "outputs": [
    {
     "data": {
      "text/plain": [
       "1559"
      ]
     },
     "execution_count": 12,
     "metadata": {},
     "output_type": "execute_result"
    }
   ],
   "source": [
    "len(s)"
   ]
  },
  {
   "cell_type": "code",
   "execution_count": null,
   "metadata": {},
   "outputs": [],
   "source": []
  }
 ],
 "metadata": {
  "kernelspec": {
   "display_name": "Python 3",
   "language": "python",
   "name": "python3"
  },
  "language_info": {
   "codemirror_mode": {
    "name": "ipython",
    "version": 3
   },
   "file_extension": ".py",
   "mimetype": "text/x-python",
   "name": "python",
   "nbconvert_exporter": "python",
   "pygments_lexer": "ipython3",
   "version": "3.7.3"
  }
 },
 "nbformat": 4,
 "nbformat_minor": 2
}
